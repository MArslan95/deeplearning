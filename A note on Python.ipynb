{
 "cells": [
  {
   "cell_type": "code",
   "execution_count": 3,
   "id": "60d49e87",
   "metadata": {},
   "outputs": [
    {
     "data": {
      "text/plain": [
       "array([0.58721248, 0.64109239, 0.10882121, 0.84147334, 0.80704862])"
      ]
     },
     "execution_count": 3,
     "metadata": {},
     "output_type": "execute_result"
    }
   ],
   "source": [
    "import numpy as np\n",
    "a=np.random.rand(5)\n",
    "a"
   ]
  },
  {
   "cell_type": "code",
   "execution_count": 4,
   "id": "7a283caf",
   "metadata": {},
   "outputs": [
    {
     "data": {
      "text/plain": [
       "(5,)"
      ]
     },
     "execution_count": 4,
     "metadata": {},
     "output_type": "execute_result"
    }
   ],
   "source": [
    "a.shape"
   ]
  },
  {
   "cell_type": "code",
   "execution_count": 5,
   "id": "e64ad986",
   "metadata": {},
   "outputs": [
    {
     "data": {
      "text/plain": [
       "array([0.58721248, 0.64109239, 0.10882121, 0.84147334, 0.80704862])"
      ]
     },
     "execution_count": 5,
     "metadata": {},
     "output_type": "execute_result"
    }
   ],
   "source": [
    "a.T"
   ]
  },
  {
   "cell_type": "code",
   "execution_count": 6,
   "id": "93ab62cb",
   "metadata": {},
   "outputs": [
    {
     "name": "stdout",
     "output_type": "stream",
     "text": [
      "2.1270648758967474\n"
     ]
    }
   ],
   "source": [
    "print(np.dot(a,a.T))"
   ]
  },
  {
   "cell_type": "code",
   "execution_count": 7,
   "id": "fc0806a4",
   "metadata": {},
   "outputs": [
    {
     "data": {
      "text/plain": [
       "array([[ 0.94330313],\n",
       "       [ 1.41776731],\n",
       "       [ 0.00874926],\n",
       "       [-1.62199324],\n",
       "       [-0.65281237]])"
      ]
     },
     "execution_count": 7,
     "metadata": {},
     "output_type": "execute_result"
    }
   ],
   "source": [
    "a=np.random.randn(5,1)\n",
    "a"
   ]
  },
  {
   "cell_type": "code",
   "execution_count": 8,
   "id": "27bddebb",
   "metadata": {},
   "outputs": [
    {
     "data": {
      "text/plain": [
       "array([[ 0.94330313,  1.41776731,  0.00874926, -1.62199324, -0.65281237]])"
      ]
     },
     "execution_count": 8,
     "metadata": {},
     "output_type": "execute_result"
    }
   ],
   "source": [
    "# taking tanspose of a we get a row vector of a\n",
    "# the diiference is in this way we get the two bracket andget a (1,5) matrix and the previous way we get the rank one array\n",
    "a.T"
   ]
  },
  {
   "cell_type": "code",
   "execution_count": 9,
   "id": "81450932",
   "metadata": {},
   "outputs": [
    {
     "data": {
      "text/plain": [
       "array([[ 8.89820795e-01,  1.33738434e+00,  8.25320795e-03,\n",
       "        -1.53003130e+00, -6.15799949e-01],\n",
       "       [ 1.33738434e+00,  2.01006414e+00,  1.24044202e-02,\n",
       "        -2.29960899e+00, -9.25536032e-01],\n",
       "       [ 8.25320795e-03,  1.24044202e-02,  7.65496174e-05,\n",
       "        -1.41912468e-02, -5.71162763e-03],\n",
       "       [-1.53003130e+00, -2.29960899e+00, -1.41912468e-02,\n",
       "         2.63086208e+00,  1.05885725e+00],\n",
       "       [-6.15799949e-01, -9.25536032e-01, -5.71162763e-03,\n",
       "         1.05885725e+00,  4.26163987e-01]])"
      ]
     },
     "execution_count": 9,
     "metadata": {},
     "output_type": "execute_result"
    }
   ],
   "source": [
    "np.dot(a,a.T)"
   ]
  },
  {
   "cell_type": "code",
   "execution_count": 17,
   "id": "f0825f4f",
   "metadata": {},
   "outputs": [
    {
     "data": {
      "text/plain": [
       "array([[-32.01689604,  17.37096487,  -9.05734951, ...,   8.0275222 ,\n",
       "         29.91654634,   1.31774604],\n",
       "       [ 15.81663725,  15.90824526,  -7.39201127, ...,   4.36045029,\n",
       "         -5.45416523,   5.63988181],\n",
       "       [ -2.37869604,  -4.4037153 , -14.76737243, ...,  -5.19171581,\n",
       "         -7.55600324,  -7.28189968],\n",
       "       ...,\n",
       "       [  5.27189768, -27.68869533,   2.36227508, ..., -13.60485352,\n",
       "        -13.81958978,  11.4698133 ],\n",
       "       [-14.58653541,  -0.51421657,  -0.87719851, ..., -16.51977055,\n",
       "         14.61464723,  -7.12227071],\n",
       "       [-10.53005245,  -4.77297173,  -3.2696385 , ...,  -1.68727561,\n",
       "         -6.85506387,  -4.42624181]])"
      ]
     },
     "execution_count": 17,
     "metadata": {},
     "output_type": "execute_result"
    }
   ],
   "source": [
    "b=np.random.randn(1228,150)\n",
    "d=np.random.randn(150,45)\n",
    "c=np.dot(b,d)\n",
    "c"
   ]
  },
  {
   "cell_type": "code",
   "execution_count": 19,
   "id": "a5d1f13a",
   "metadata": {},
   "outputs": [
    {
     "data": {
      "text/plain": [
       "(1228, 45)"
      ]
     },
     "execution_count": 19,
     "metadata": {},
     "output_type": "execute_result"
    }
   ],
   "source": [
    "c.shape"
   ]
  },
  {
   "cell_type": "code",
   "execution_count": 27,
   "id": "9e766d88",
   "metadata": {},
   "outputs": [
    {
     "data": {
      "text/plain": [
       "(2, 3)"
      ]
     },
     "execution_count": 27,
     "metadata": {},
     "output_type": "execute_result"
    }
   ],
   "source": [
    "b=np.random.randn(2,3)\n",
    "d=np.random.randn(2,1)\n",
    "c=b+d\n",
    "c\n",
    "c.shape"
   ]
  },
  {
   "cell_type": "code",
   "execution_count": 25,
   "id": "140cd854",
   "metadata": {},
   "outputs": [
    {
     "data": {
      "text/plain": [
       "(3, 3)"
      ]
     },
     "execution_count": 25,
     "metadata": {},
     "output_type": "execute_result"
    }
   ],
   "source": [
    "a=np.random.randn(3,3)\n",
    "\n",
    "b = np.random.randn(3, 1)\n",
    "\n",
    "c = a*b\n",
    "c\n",
    "c.shape"
   ]
  },
  {
   "cell_type": "code",
   "execution_count": null,
   "id": "49b304df",
   "metadata": {},
   "outputs": [],
   "source": []
  }
 ],
 "metadata": {
  "kernelspec": {
   "display_name": "Python 3 (ipykernel)",
   "language": "python",
   "name": "python3"
  },
  "language_info": {
   "codemirror_mode": {
    "name": "ipython",
    "version": 3
   },
   "file_extension": ".py",
   "mimetype": "text/x-python",
   "name": "python",
   "nbconvert_exporter": "python",
   "pygments_lexer": "ipython3",
   "version": "3.9.7"
  }
 },
 "nbformat": 4,
 "nbformat_minor": 5
}
